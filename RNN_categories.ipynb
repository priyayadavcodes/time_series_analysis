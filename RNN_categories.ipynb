{
 "cells": [
  {
   "cell_type": "code",
   "execution_count": 1,
   "id": "635c906c",
   "metadata": {},
   "outputs": [],
   "source": [
    "import pandas as pd\n",
    "import numpy as np\n",
    "import pickle"
   ]
  },
  {
   "cell_type": "code",
   "execution_count": 2,
   "id": "770314e1",
   "metadata": {},
   "outputs": [],
   "source": [
    "data = pd.read_csv('data.csv')"
   ]
  },
  {
   "cell_type": "code",
   "execution_count": 3,
   "id": "5da4fc0b",
   "metadata": {},
   "outputs": [
    {
     "data": {
      "text/html": [
       "<div>\n",
       "<style scoped>\n",
       "    .dataframe tbody tr th:only-of-type {\n",
       "        vertical-align: middle;\n",
       "    }\n",
       "\n",
       "    .dataframe tbody tr th {\n",
       "        vertical-align: top;\n",
       "    }\n",
       "\n",
       "    .dataframe thead th {\n",
       "        text-align: right;\n",
       "    }\n",
       "</style>\n",
       "<table border=\"1\" class=\"dataframe\">\n",
       "  <thead>\n",
       "    <tr style=\"text-align: right;\">\n",
       "      <th></th>\n",
       "      <th>Unnamed: 0</th>\n",
       "      <th>id</th>\n",
       "      <th>date</th>\n",
       "      <th>store_nbr</th>\n",
       "      <th>family</th>\n",
       "      <th>sales</th>\n",
       "      <th>onpromotion</th>\n",
       "      <th>transactions</th>\n",
       "      <th>city</th>\n",
       "      <th>cluster</th>\n",
       "      <th>type</th>\n",
       "      <th>locale</th>\n",
       "      <th>locale_name</th>\n",
       "      <th>oil_price</th>\n",
       "      <th>holiday_flag</th>\n",
       "    </tr>\n",
       "  </thead>\n",
       "  <tbody>\n",
       "    <tr>\n",
       "      <th>0</th>\n",
       "      <td>561</td>\n",
       "      <td>561</td>\n",
       "      <td>2013-01-01</td>\n",
       "      <td>25</td>\n",
       "      <td>AUTOMOTIVE</td>\n",
       "      <td>0.0</td>\n",
       "      <td>0</td>\n",
       "      <td>770.0</td>\n",
       "      <td>Salinas</td>\n",
       "      <td>1</td>\n",
       "      <td>Holiday</td>\n",
       "      <td>National</td>\n",
       "      <td>Ecuador</td>\n",
       "      <td>NaN</td>\n",
       "      <td>1</td>\n",
       "    </tr>\n",
       "    <tr>\n",
       "      <th>1</th>\n",
       "      <td>562</td>\n",
       "      <td>562</td>\n",
       "      <td>2013-01-01</td>\n",
       "      <td>25</td>\n",
       "      <td>BABY CARE</td>\n",
       "      <td>0.0</td>\n",
       "      <td>0</td>\n",
       "      <td>770.0</td>\n",
       "      <td>Salinas</td>\n",
       "      <td>1</td>\n",
       "      <td>Holiday</td>\n",
       "      <td>National</td>\n",
       "      <td>Ecuador</td>\n",
       "      <td>NaN</td>\n",
       "      <td>1</td>\n",
       "    </tr>\n",
       "    <tr>\n",
       "      <th>2</th>\n",
       "      <td>563</td>\n",
       "      <td>563</td>\n",
       "      <td>2013-01-01</td>\n",
       "      <td>25</td>\n",
       "      <td>BEAUTY</td>\n",
       "      <td>2.0</td>\n",
       "      <td>0</td>\n",
       "      <td>770.0</td>\n",
       "      <td>Salinas</td>\n",
       "      <td>1</td>\n",
       "      <td>Holiday</td>\n",
       "      <td>National</td>\n",
       "      <td>Ecuador</td>\n",
       "      <td>NaN</td>\n",
       "      <td>1</td>\n",
       "    </tr>\n",
       "    <tr>\n",
       "      <th>3</th>\n",
       "      <td>564</td>\n",
       "      <td>564</td>\n",
       "      <td>2013-01-01</td>\n",
       "      <td>25</td>\n",
       "      <td>BEVERAGES</td>\n",
       "      <td>810.0</td>\n",
       "      <td>0</td>\n",
       "      <td>770.0</td>\n",
       "      <td>Salinas</td>\n",
       "      <td>1</td>\n",
       "      <td>Holiday</td>\n",
       "      <td>National</td>\n",
       "      <td>Ecuador</td>\n",
       "      <td>NaN</td>\n",
       "      <td>1</td>\n",
       "    </tr>\n",
       "    <tr>\n",
       "      <th>4</th>\n",
       "      <td>565</td>\n",
       "      <td>565</td>\n",
       "      <td>2013-01-01</td>\n",
       "      <td>25</td>\n",
       "      <td>BOOKS</td>\n",
       "      <td>0.0</td>\n",
       "      <td>0</td>\n",
       "      <td>770.0</td>\n",
       "      <td>Salinas</td>\n",
       "      <td>1</td>\n",
       "      <td>Holiday</td>\n",
       "      <td>National</td>\n",
       "      <td>Ecuador</td>\n",
       "      <td>NaN</td>\n",
       "      <td>1</td>\n",
       "    </tr>\n",
       "  </tbody>\n",
       "</table>\n",
       "</div>"
      ],
      "text/plain": [
       "   Unnamed: 0   id        date  store_nbr      family  sales  onpromotion  \\\n",
       "0         561  561  2013-01-01         25  AUTOMOTIVE    0.0            0   \n",
       "1         562  562  2013-01-01         25   BABY CARE    0.0            0   \n",
       "2         563  563  2013-01-01         25      BEAUTY    2.0            0   \n",
       "3         564  564  2013-01-01         25   BEVERAGES  810.0            0   \n",
       "4         565  565  2013-01-01         25       BOOKS    0.0            0   \n",
       "\n",
       "   transactions     city  cluster     type    locale locale_name  oil_price  \\\n",
       "0         770.0  Salinas        1  Holiday  National     Ecuador        NaN   \n",
       "1         770.0  Salinas        1  Holiday  National     Ecuador        NaN   \n",
       "2         770.0  Salinas        1  Holiday  National     Ecuador        NaN   \n",
       "3         770.0  Salinas        1  Holiday  National     Ecuador        NaN   \n",
       "4         770.0  Salinas        1  Holiday  National     Ecuador        NaN   \n",
       "\n",
       "   holiday_flag  \n",
       "0             1  \n",
       "1             1  \n",
       "2             1  \n",
       "3             1  \n",
       "4             1  "
      ]
     },
     "execution_count": 3,
     "metadata": {},
     "output_type": "execute_result"
    }
   ],
   "source": [
    "data.head()"
   ]
  },
  {
   "cell_type": "code",
   "execution_count": 4,
   "id": "282c47b9",
   "metadata": {},
   "outputs": [
    {
     "data": {
      "text/plain": [
       "array(['AUTOMOTIVE', 'BABY CARE', 'BEAUTY', 'BEVERAGES', 'BOOKS',\n",
       "       'BREAD/BAKERY', 'CELEBRATION', 'CLEANING', 'DAIRY', 'DELI', 'EGGS',\n",
       "       'FROZEN FOODS', 'GROCERY I', 'GROCERY II', 'HARDWARE',\n",
       "       'HOME AND KITCHEN I', 'HOME AND KITCHEN II', 'HOME APPLIANCES',\n",
       "       'HOME CARE', 'LADIESWEAR', 'LAWN AND GARDEN', 'LINGERIE',\n",
       "       'LIQUOR,WINE,BEER', 'MAGAZINES', 'MEATS', 'PERSONAL CARE',\n",
       "       'PET SUPPLIES', 'PLAYERS AND ELECTRONICS', 'POULTRY',\n",
       "       'PREPARED FOODS', 'PRODUCE', 'SCHOOL AND OFFICE SUPPLIES',\n",
       "       'SEAFOOD'], dtype=object)"
      ]
     },
     "execution_count": 4,
     "metadata": {},
     "output_type": "execute_result"
    }
   ],
   "source": [
    "data['family'].unique()"
   ]
  },
  {
   "cell_type": "code",
   "execution_count": 5,
   "id": "fbfa4e2a",
   "metadata": {},
   "outputs": [],
   "source": [
    "data_auto = data[data['family'] == 'BEVERAGES']"
   ]
  },
  {
   "cell_type": "code",
   "execution_count": 6,
   "id": "be21d42e",
   "metadata": {
    "scrolled": true
   },
   "outputs": [
    {
     "data": {
      "text/html": [
       "<div>\n",
       "<style scoped>\n",
       "    .dataframe tbody tr th:only-of-type {\n",
       "        vertical-align: middle;\n",
       "    }\n",
       "\n",
       "    .dataframe tbody tr th {\n",
       "        vertical-align: top;\n",
       "    }\n",
       "\n",
       "    .dataframe thead th {\n",
       "        text-align: right;\n",
       "    }\n",
       "</style>\n",
       "<table border=\"1\" class=\"dataframe\">\n",
       "  <thead>\n",
       "    <tr style=\"text-align: right;\">\n",
       "      <th></th>\n",
       "      <th>Unnamed: 0</th>\n",
       "      <th>id</th>\n",
       "      <th>date</th>\n",
       "      <th>store_nbr</th>\n",
       "      <th>family</th>\n",
       "      <th>sales</th>\n",
       "      <th>onpromotion</th>\n",
       "      <th>transactions</th>\n",
       "      <th>city</th>\n",
       "      <th>cluster</th>\n",
       "      <th>type</th>\n",
       "      <th>locale</th>\n",
       "      <th>locale_name</th>\n",
       "      <th>oil_price</th>\n",
       "      <th>holiday_flag</th>\n",
       "    </tr>\n",
       "  </thead>\n",
       "  <tbody>\n",
       "    <tr>\n",
       "      <th>55410</th>\n",
       "      <td>2992542</td>\n",
       "      <td>2992542</td>\n",
       "      <td>2017-08-11</td>\n",
       "      <td>25</td>\n",
       "      <td>BEVERAGES</td>\n",
       "      <td>6318.0</td>\n",
       "      <td>14</td>\n",
       "      <td>2195.0</td>\n",
       "      <td>Salinas</td>\n",
       "      <td>1</td>\n",
       "      <td>Transfer</td>\n",
       "      <td>National</td>\n",
       "      <td>Ecuador</td>\n",
       "      <td>48.81</td>\n",
       "      <td>1</td>\n",
       "    </tr>\n",
       "    <tr>\n",
       "      <th>55443</th>\n",
       "      <td>2994324</td>\n",
       "      <td>2994324</td>\n",
       "      <td>2017-08-12</td>\n",
       "      <td>25</td>\n",
       "      <td>BEVERAGES</td>\n",
       "      <td>4041.0</td>\n",
       "      <td>14</td>\n",
       "      <td>1946.0</td>\n",
       "      <td>Salinas</td>\n",
       "      <td>1</td>\n",
       "      <td>NaN</td>\n",
       "      <td>NaN</td>\n",
       "      <td>NaN</td>\n",
       "      <td>NaN</td>\n",
       "      <td>0</td>\n",
       "    </tr>\n",
       "    <tr>\n",
       "      <th>55476</th>\n",
       "      <td>2996106</td>\n",
       "      <td>2996106</td>\n",
       "      <td>2017-08-13</td>\n",
       "      <td>25</td>\n",
       "      <td>BEVERAGES</td>\n",
       "      <td>2238.0</td>\n",
       "      <td>12</td>\n",
       "      <td>1107.0</td>\n",
       "      <td>Salinas</td>\n",
       "      <td>1</td>\n",
       "      <td>NaN</td>\n",
       "      <td>NaN</td>\n",
       "      <td>NaN</td>\n",
       "      <td>NaN</td>\n",
       "      <td>0</td>\n",
       "    </tr>\n",
       "    <tr>\n",
       "      <th>55509</th>\n",
       "      <td>2997888</td>\n",
       "      <td>2997888</td>\n",
       "      <td>2017-08-14</td>\n",
       "      <td>25</td>\n",
       "      <td>BEVERAGES</td>\n",
       "      <td>2190.0</td>\n",
       "      <td>11</td>\n",
       "      <td>935.0</td>\n",
       "      <td>Salinas</td>\n",
       "      <td>1</td>\n",
       "      <td>NaN</td>\n",
       "      <td>NaN</td>\n",
       "      <td>NaN</td>\n",
       "      <td>47.59</td>\n",
       "      <td>0</td>\n",
       "    </tr>\n",
       "    <tr>\n",
       "      <th>55542</th>\n",
       "      <td>2999670</td>\n",
       "      <td>2999670</td>\n",
       "      <td>2017-08-15</td>\n",
       "      <td>25</td>\n",
       "      <td>BEVERAGES</td>\n",
       "      <td>1636.0</td>\n",
       "      <td>8</td>\n",
       "      <td>849.0</td>\n",
       "      <td>Salinas</td>\n",
       "      <td>1</td>\n",
       "      <td>Holiday</td>\n",
       "      <td>Local</td>\n",
       "      <td>Riobamba</td>\n",
       "      <td>47.57</td>\n",
       "      <td>0</td>\n",
       "    </tr>\n",
       "  </tbody>\n",
       "</table>\n",
       "</div>"
      ],
      "text/plain": [
       "       Unnamed: 0       id        date  store_nbr     family   sales  \\\n",
       "55410     2992542  2992542  2017-08-11         25  BEVERAGES  6318.0   \n",
       "55443     2994324  2994324  2017-08-12         25  BEVERAGES  4041.0   \n",
       "55476     2996106  2996106  2017-08-13         25  BEVERAGES  2238.0   \n",
       "55509     2997888  2997888  2017-08-14         25  BEVERAGES  2190.0   \n",
       "55542     2999670  2999670  2017-08-15         25  BEVERAGES  1636.0   \n",
       "\n",
       "       onpromotion  transactions     city  cluster      type    locale  \\\n",
       "55410           14        2195.0  Salinas        1  Transfer  National   \n",
       "55443           14        1946.0  Salinas        1       NaN       NaN   \n",
       "55476           12        1107.0  Salinas        1       NaN       NaN   \n",
       "55509           11         935.0  Salinas        1       NaN       NaN   \n",
       "55542            8         849.0  Salinas        1   Holiday     Local   \n",
       "\n",
       "      locale_name  oil_price  holiday_flag  \n",
       "55410     Ecuador      48.81             1  \n",
       "55443         NaN        NaN             0  \n",
       "55476         NaN        NaN             0  \n",
       "55509         NaN      47.59             0  \n",
       "55542    Riobamba      47.57             0  "
      ]
     },
     "execution_count": 6,
     "metadata": {},
     "output_type": "execute_result"
    }
   ],
   "source": [
    "data_auto.tail()"
   ]
  },
  {
   "cell_type": "code",
   "execution_count": 7,
   "id": "a02ed891",
   "metadata": {},
   "outputs": [],
   "source": [
    "data_auto = data_auto.drop(['id'], axis = 1)"
   ]
  },
  {
   "cell_type": "code",
   "execution_count": 8,
   "id": "f6f72da0",
   "metadata": {},
   "outputs": [],
   "source": [
    "data_auto['id'] = range(1, data_auto.shape[0] + 1)"
   ]
  },
  {
   "cell_type": "code",
   "execution_count": 9,
   "id": "35a927fa",
   "metadata": {},
   "outputs": [],
   "source": [
    "#data_auto.index = data_auto.date"
   ]
  },
  {
   "cell_type": "code",
   "execution_count": 10,
   "id": "bfb0cb07",
   "metadata": {},
   "outputs": [
    {
     "data": {
      "text/html": [
       "<div>\n",
       "<style scoped>\n",
       "    .dataframe tbody tr th:only-of-type {\n",
       "        vertical-align: middle;\n",
       "    }\n",
       "\n",
       "    .dataframe tbody tr th {\n",
       "        vertical-align: top;\n",
       "    }\n",
       "\n",
       "    .dataframe thead th {\n",
       "        text-align: right;\n",
       "    }\n",
       "</style>\n",
       "<table border=\"1\" class=\"dataframe\">\n",
       "  <thead>\n",
       "    <tr style=\"text-align: right;\">\n",
       "      <th></th>\n",
       "      <th>Unnamed: 0</th>\n",
       "      <th>date</th>\n",
       "      <th>store_nbr</th>\n",
       "      <th>family</th>\n",
       "      <th>sales</th>\n",
       "      <th>onpromotion</th>\n",
       "      <th>transactions</th>\n",
       "      <th>city</th>\n",
       "      <th>cluster</th>\n",
       "      <th>type</th>\n",
       "      <th>locale</th>\n",
       "      <th>locale_name</th>\n",
       "      <th>oil_price</th>\n",
       "      <th>holiday_flag</th>\n",
       "      <th>id</th>\n",
       "    </tr>\n",
       "  </thead>\n",
       "  <tbody>\n",
       "    <tr>\n",
       "      <th>3</th>\n",
       "      <td>564</td>\n",
       "      <td>2013-01-01</td>\n",
       "      <td>25</td>\n",
       "      <td>BEVERAGES</td>\n",
       "      <td>810.0</td>\n",
       "      <td>0</td>\n",
       "      <td>770.0</td>\n",
       "      <td>Salinas</td>\n",
       "      <td>1</td>\n",
       "      <td>Holiday</td>\n",
       "      <td>National</td>\n",
       "      <td>Ecuador</td>\n",
       "      <td>NaN</td>\n",
       "      <td>1</td>\n",
       "      <td>1</td>\n",
       "    </tr>\n",
       "    <tr>\n",
       "      <th>36</th>\n",
       "      <td>2346</td>\n",
       "      <td>2013-01-02</td>\n",
       "      <td>25</td>\n",
       "      <td>BEVERAGES</td>\n",
       "      <td>1373.0</td>\n",
       "      <td>0</td>\n",
       "      <td>1038.0</td>\n",
       "      <td>Salinas</td>\n",
       "      <td>1</td>\n",
       "      <td>NaN</td>\n",
       "      <td>NaN</td>\n",
       "      <td>NaN</td>\n",
       "      <td>93.14</td>\n",
       "      <td>0</td>\n",
       "      <td>2</td>\n",
       "    </tr>\n",
       "    <tr>\n",
       "      <th>69</th>\n",
       "      <td>4128</td>\n",
       "      <td>2013-01-03</td>\n",
       "      <td>25</td>\n",
       "      <td>BEVERAGES</td>\n",
       "      <td>992.0</td>\n",
       "      <td>0</td>\n",
       "      <td>887.0</td>\n",
       "      <td>Salinas</td>\n",
       "      <td>1</td>\n",
       "      <td>NaN</td>\n",
       "      <td>NaN</td>\n",
       "      <td>NaN</td>\n",
       "      <td>92.97</td>\n",
       "      <td>0</td>\n",
       "      <td>3</td>\n",
       "    </tr>\n",
       "    <tr>\n",
       "      <th>102</th>\n",
       "      <td>5910</td>\n",
       "      <td>2013-01-04</td>\n",
       "      <td>25</td>\n",
       "      <td>BEVERAGES</td>\n",
       "      <td>1317.0</td>\n",
       "      <td>0</td>\n",
       "      <td>1054.0</td>\n",
       "      <td>Salinas</td>\n",
       "      <td>1</td>\n",
       "      <td>NaN</td>\n",
       "      <td>NaN</td>\n",
       "      <td>NaN</td>\n",
       "      <td>93.12</td>\n",
       "      <td>0</td>\n",
       "      <td>4</td>\n",
       "    </tr>\n",
       "    <tr>\n",
       "      <th>135</th>\n",
       "      <td>7692</td>\n",
       "      <td>2013-01-05</td>\n",
       "      <td>25</td>\n",
       "      <td>BEVERAGES</td>\n",
       "      <td>1770.0</td>\n",
       "      <td>0</td>\n",
       "      <td>1355.0</td>\n",
       "      <td>Salinas</td>\n",
       "      <td>1</td>\n",
       "      <td>Work Day</td>\n",
       "      <td>National</td>\n",
       "      <td>Ecuador</td>\n",
       "      <td>NaN</td>\n",
       "      <td>1</td>\n",
       "      <td>5</td>\n",
       "    </tr>\n",
       "  </tbody>\n",
       "</table>\n",
       "</div>"
      ],
      "text/plain": [
       "     Unnamed: 0        date  store_nbr     family   sales  onpromotion  \\\n",
       "3           564  2013-01-01         25  BEVERAGES   810.0            0   \n",
       "36         2346  2013-01-02         25  BEVERAGES  1373.0            0   \n",
       "69         4128  2013-01-03         25  BEVERAGES   992.0            0   \n",
       "102        5910  2013-01-04         25  BEVERAGES  1317.0            0   \n",
       "135        7692  2013-01-05         25  BEVERAGES  1770.0            0   \n",
       "\n",
       "     transactions     city  cluster      type    locale locale_name  \\\n",
       "3           770.0  Salinas        1   Holiday  National     Ecuador   \n",
       "36         1038.0  Salinas        1       NaN       NaN         NaN   \n",
       "69          887.0  Salinas        1       NaN       NaN         NaN   \n",
       "102        1054.0  Salinas        1       NaN       NaN         NaN   \n",
       "135        1355.0  Salinas        1  Work Day  National     Ecuador   \n",
       "\n",
       "     oil_price  holiday_flag  id  \n",
       "3          NaN             1   1  \n",
       "36       93.14             0   2  \n",
       "69       92.97             0   3  \n",
       "102      93.12             0   4  \n",
       "135        NaN             1   5  "
      ]
     },
     "execution_count": 10,
     "metadata": {},
     "output_type": "execute_result"
    }
   ],
   "source": [
    "data_auto.head()"
   ]
  },
  {
   "cell_type": "code",
   "execution_count": 11,
   "id": "0e0a1cff",
   "metadata": {},
   "outputs": [],
   "source": [
    "df1 = data_auto.reset_index()['sales']\n",
    "from sklearn.preprocessing import MinMaxScaler\n",
    "scaler=MinMaxScaler(feature_range=(0,1))\n",
    "df1=scaler.fit_transform(np.array(df1).reshape(-1,1))"
   ]
  },
  {
   "cell_type": "code",
   "execution_count": 12,
   "id": "c065b48e",
   "metadata": {},
   "outputs": [],
   "source": [
    "import matplotlib.pyplot as plt\n",
    "#plt.figure(figsize=(25, 6))\n",
    "#plt.plot(data_auto['sales'])"
   ]
  },
  {
   "cell_type": "markdown",
   "id": "f6c7607b",
   "metadata": {},
   "source": [
    "### Train-Test Split"
   ]
  },
  {
   "cell_type": "code",
   "execution_count": 13,
   "id": "fb39bbd6",
   "metadata": {},
   "outputs": [],
   "source": [
    "##splitting dataset into train and test split\n",
    "training_size=int(len(df1)*0.93)\n",
    "test_size=len(df1)-training_size\n",
    "train_data,test_data=df1[0:training_size,:],df1[training_size:len(df1),:]"
   ]
  },
  {
   "cell_type": "code",
   "execution_count": 14,
   "id": "928cddf6",
   "metadata": {},
   "outputs": [
    {
     "data": {
      "text/plain": [
       "(1566, 118)"
      ]
     },
     "execution_count": 14,
     "metadata": {},
     "output_type": "execute_result"
    }
   ],
   "source": [
    "training_size, test_size"
   ]
  },
  {
   "cell_type": "code",
   "execution_count": 15,
   "id": "88576b71",
   "metadata": {},
   "outputs": [],
   "source": [
    "# convert an array of values into a dataset matrix\n",
    "def create_dataset(dataset, time_step=1):\n",
    "    dataX, dataY = [], []\n",
    "    for i in range(len(dataset)-time_step-1):\n",
    "        a = dataset[i:(i+time_step), 0]   ###i=0, 0,1,2,3-----99   100 \n",
    "        dataX.append(a)\n",
    "        dataY.append(dataset[i + time_step, 0])\n",
    "    return np.array(dataX), np.array(dataY)"
   ]
  },
  {
   "cell_type": "code",
   "execution_count": 16,
   "id": "e6f6388d",
   "metadata": {},
   "outputs": [],
   "source": [
    "# reshape into X=t,t+1,t+2,t+3 and Y=t+4\n",
    "time_step = 100\n",
    "X_train, y_train = create_dataset(train_data, time_step)\n",
    "X_test, ytest = create_dataset(test_data, time_step)"
   ]
  },
  {
   "cell_type": "code",
   "execution_count": 17,
   "id": "5f36b857",
   "metadata": {},
   "outputs": [
    {
     "name": "stdout",
     "output_type": "stream",
     "text": [
      "(1465, 100)\n",
      "(1465,)\n"
     ]
    },
    {
     "data": {
      "text/plain": [
       "(None, None)"
      ]
     },
     "execution_count": 17,
     "metadata": {},
     "output_type": "execute_result"
    }
   ],
   "source": [
    "print(X_train.shape), print(y_train.shape)"
   ]
  },
  {
   "cell_type": "code",
   "execution_count": 18,
   "id": "8097ccad",
   "metadata": {},
   "outputs": [
    {
     "name": "stdout",
     "output_type": "stream",
     "text": [
      "(17, 100)\n",
      "(17,)\n"
     ]
    },
    {
     "data": {
      "text/plain": [
       "(None, None)"
      ]
     },
     "execution_count": 18,
     "metadata": {},
     "output_type": "execute_result"
    }
   ],
   "source": [
    "print(X_test.shape), print(ytest.shape)"
   ]
  },
  {
   "cell_type": "code",
   "execution_count": 19,
   "id": "5bfd43a8",
   "metadata": {},
   "outputs": [],
   "source": [
    "# reshape input to be [samples, time steps, features] which is required for LSTM\n",
    "X_train =X_train.reshape(X_train.shape[0],X_train.shape[1] , 1)\n",
    "X_test = X_test.reshape(X_test.shape[0],X_test.shape[1] , 1)"
   ]
  },
  {
   "cell_type": "markdown",
   "id": "0c4b4829",
   "metadata": {},
   "source": [
    "### RNN"
   ]
  },
  {
   "cell_type": "code",
   "execution_count": 20,
   "id": "fe7120ac",
   "metadata": {},
   "outputs": [],
   "source": [
    "### Create the Stacked RNN model\n",
    "from tensorflow.keras.models import Sequential\n",
    "from tensorflow.keras.layers import Dense\n",
    "from tensorflow.keras.layers import LSTM, SimpleRNN"
   ]
  },
  {
   "cell_type": "code",
   "execution_count": 21,
   "id": "8f459a46",
   "metadata": {},
   "outputs": [],
   "source": [
    "model=Sequential(name = \"SimpleRNN\")\n",
    "model.add(SimpleRNN(50,return_sequences=True,input_shape=(100,1)))\n",
    "model.add(SimpleRNN(50,return_sequences=True))\n",
    "model.add(SimpleRNN(50))\n",
    "model.add(Dense(1))\n",
    "model.compile(loss='mean_squared_error',optimizer='adam')"
   ]
  },
  {
   "cell_type": "code",
   "execution_count": 22,
   "id": "081b811a",
   "metadata": {},
   "outputs": [
    {
     "name": "stdout",
     "output_type": "stream",
     "text": [
      "Epoch 1/20\n",
      "23/23 [==============================] - 7s 121ms/step - loss: 0.0601 - val_loss: 0.0128\n",
      "Epoch 2/20\n",
      "23/23 [==============================] - 2s 85ms/step - loss: 0.0113 - val_loss: 0.0103\n",
      "Epoch 3/20\n",
      "23/23 [==============================] - 2s 85ms/step - loss: 0.0081 - val_loss: 0.0087\n",
      "Epoch 4/20\n",
      "23/23 [==============================] - 2s 85ms/step - loss: 0.0070 - val_loss: 0.0121\n",
      "Epoch 5/20\n",
      "23/23 [==============================] - 2s 85ms/step - loss: 0.0069 - val_loss: 0.0085\n",
      "Epoch 6/20\n",
      "23/23 [==============================] - 2s 86ms/step - loss: 0.0068 - val_loss: 0.0086\n",
      "Epoch 7/20\n",
      "23/23 [==============================] - 2s 84ms/step - loss: 0.0059 - val_loss: 0.0091\n",
      "Epoch 8/20\n",
      "23/23 [==============================] - 2s 84ms/step - loss: 0.0054 - val_loss: 0.0091\n",
      "Epoch 9/20\n",
      "23/23 [==============================] - 2s 86ms/step - loss: 0.0056 - val_loss: 0.0089\n",
      "Epoch 10/20\n",
      "23/23 [==============================] - 2s 86ms/step - loss: 0.0057 - val_loss: 0.0086\n",
      "Epoch 11/20\n",
      "23/23 [==============================] - 2s 84ms/step - loss: 0.0055 - val_loss: 0.0128\n",
      "Epoch 12/20\n",
      "23/23 [==============================] - 2s 84ms/step - loss: 0.0062 - val_loss: 0.0103\n",
      "Epoch 13/20\n",
      "23/23 [==============================] - 2s 87ms/step - loss: 0.0052 - val_loss: 0.0084\n",
      "Epoch 14/20\n",
      "23/23 [==============================] - 2s 79ms/step - loss: 0.0048 - val_loss: 0.0082\n",
      "Epoch 15/20\n",
      "23/23 [==============================] - 2s 88ms/step - loss: 0.0048 - val_loss: 0.0080\n",
      "Epoch 16/20\n",
      "23/23 [==============================] - 2s 85ms/step - loss: 0.0048 - val_loss: 0.0098\n",
      "Epoch 17/20\n",
      "23/23 [==============================] - 2s 85ms/step - loss: 0.0050 - val_loss: 0.0081\n",
      "Epoch 18/20\n",
      "23/23 [==============================] - 2s 89ms/step - loss: 0.0053 - val_loss: 0.0117\n",
      "Epoch 19/20\n",
      "23/23 [==============================] - 2s 86ms/step - loss: 0.0058 - val_loss: 0.0085\n",
      "Epoch 20/20\n",
      "23/23 [==============================] - 2s 85ms/step - loss: 0.0047 - val_loss: 0.0082\n"
     ]
    },
    {
     "data": {
      "text/plain": [
       "<keras.src.callbacks.History at 0x233d6a94eb0>"
      ]
     },
     "execution_count": 22,
     "metadata": {},
     "output_type": "execute_result"
    }
   ],
   "source": [
    "model.fit(X_train,y_train,validation_data=(X_test,ytest),epochs=20,batch_size=64,verbose=1)"
   ]
  },
  {
   "cell_type": "code",
   "execution_count": 23,
   "id": "f11b4bf4",
   "metadata": {},
   "outputs": [
    {
     "name": "stdout",
     "output_type": "stream",
     "text": [
      "46/46 [==============================] - 2s 23ms/step\n",
      "1/1 [==============================] - 0s 69ms/step\n"
     ]
    }
   ],
   "source": [
    "### Lets Do the prediction and check performance metrics\n",
    "train_predict=model.predict(X_train)\n",
    "test_predict=model.predict(X_test)"
   ]
  },
  {
   "cell_type": "code",
   "execution_count": 24,
   "id": "abfb1c45",
   "metadata": {},
   "outputs": [],
   "source": [
    "##Transformback to original form\n",
    "train_predict=scaler.inverse_transform(train_predict)\n",
    "test_predict=scaler.inverse_transform(test_predict)"
   ]
  },
  {
   "cell_type": "code",
   "execution_count": 25,
   "id": "28570c69",
   "metadata": {},
   "outputs": [
    {
     "data": {
      "text/plain": [
       "2136.2591774038547"
      ]
     },
     "execution_count": 25,
     "metadata": {},
     "output_type": "execute_result"
    }
   ],
   "source": [
    "### Calculate RMSE performance metrics\n",
    "import math\n",
    "from sklearn.metrics import mean_squared_error\n",
    "math.sqrt(mean_squared_error(y_train,train_predict))"
   ]
  },
  {
   "cell_type": "code",
   "execution_count": 26,
   "id": "d2c9c6f0",
   "metadata": {},
   "outputs": [],
   "source": [
    "y_test = scaler.inverse_transform(ytest.reshape(-1, 1))"
   ]
  },
  {
   "cell_type": "code",
   "execution_count": 27,
   "id": "fc7601e1",
   "metadata": {},
   "outputs": [
    {
     "data": {
      "text/plain": [
       "1003.6238198707498"
      ]
     },
     "execution_count": 27,
     "metadata": {},
     "output_type": "execute_result"
    }
   ],
   "source": [
    "### Test Data RMSE\n",
    "math.sqrt(mean_squared_error(y_test,test_predict))"
   ]
  },
  {
   "cell_type": "code",
   "execution_count": 28,
   "id": "adec380d",
   "metadata": {},
   "outputs": [],
   "source": [
    "import matplotlib.pyplot as plt"
   ]
  },
  {
   "cell_type": "code",
   "execution_count": 29,
   "id": "90b8180d",
   "metadata": {},
   "outputs": [
    {
     "data": {
      "text/plain": [
       "1003.6238198707498"
      ]
     },
     "execution_count": 29,
     "metadata": {},
     "output_type": "execute_result"
    }
   ],
   "source": [
    "math.sqrt(sum((y_test - test_predict)**2)/len(y_test))"
   ]
  },
  {
   "cell_type": "code",
   "execution_count": 30,
   "id": "87ed9044",
   "metadata": {},
   "outputs": [
    {
     "data": {
      "text/plain": [
       "array([[ 424.046875  ],\n",
       "       [ 267.80114746],\n",
       "       [ 363.42468262],\n",
       "       [  69.30871582],\n",
       "       [ 162.26208496],\n",
       "       [ 145.02404785],\n",
       "       [ 130.71411133],\n",
       "       [  40.96655273],\n",
       "       [ 105.54003906],\n",
       "       [ 167.00695801],\n",
       "       [ 483.75695801],\n",
       "       [ 353.19238281],\n",
       "       [1242.65588379],\n",
       "       [2860.3425293 ],\n",
       "       [2252.79394531],\n",
       "       [1183.46191406],\n",
       "       [ 263.97338867]])"
      ]
     },
     "execution_count": 30,
     "metadata": {},
     "output_type": "execute_result"
    }
   ],
   "source": [
    "abs(y_test - test_predict)"
   ]
  },
  {
   "cell_type": "code",
   "execution_count": 31,
   "id": "99c545f7",
   "metadata": {},
   "outputs": [],
   "source": [
    "df_rnn = pd.DataFrame({'Original' : y_test.flatten(), 'Predicted' : test_predict.flatten()})"
   ]
  },
  {
   "cell_type": "code",
   "execution_count": 32,
   "id": "ecbf76b4",
   "metadata": {},
   "outputs": [
    {
     "data": {
      "image/png": "[encoded data removed]",
      "text/plain": [
       "<Figure size 640x480 with 1 Axes>"
      ]
     },
     "metadata": {},
     "output_type": "display_data"
    }
   ],
   "source": [
    "df_rnn['Predicted'].plot(legend = True)\n",
    "df_rnn['Original'].plot(legend = True)\n",
    "plt.title('Forecasting of Sales of Groceries for Store 25')\n",
    "plt.xlabel('Time')\n",
    "plt.ylabel('Sales')\n",
    "plt.show()"
   ]
  },
  {
   "cell_type": "code",
   "execution_count": null,
   "id": "ce548866",
   "metadata": {},
   "outputs": [],
   "source": []
  },
  {
   "cell_type": "markdown",
   "id": "5158962a",
   "metadata": {},
   "source": [
    "## LSTM"
   ]
  },
  {
   "cell_type": "code",
   "execution_count": 33,
   "id": "e3debc02",
   "metadata": {},
   "outputs": [],
   "source": [
    "#model_lstm=Sequential()\n",
    "#model_lstm.add(LSTM(50,return_sequences=True,input_shape=(100,1)))\n",
    "#model_lstm.add(LSTM(50,return_sequences=True))\n",
    "#model_lstm.add(LSTM(50))\n",
    "#model_lstm.add(Dense(1))\n",
    "#model_lstm.compile(loss='mean_squared_error',optimizer='adam')"
   ]
  },
  {
   "cell_type": "code",
   "execution_count": 34,
   "id": "c48580dc",
   "metadata": {},
   "outputs": [],
   "source": [
    "#model_lstm.fit(X_train,y_train,validation_data=(X_test,ytest),epochs=30,batch_size=64,verbose=1)"
   ]
  },
  {
   "cell_type": "code",
   "execution_count": 35,
   "id": "ec5ac23a",
   "metadata": {},
   "outputs": [],
   "source": [
    "### Lets Do the prediction and check performance metrics\n",
    "#train_predict_lstm = model_lstm.predict(X_train)\n",
    "#test_predict_lstm = model_lstm.predict(X_test)"
   ]
  },
  {
   "cell_type": "code",
   "execution_count": 36,
   "id": "bd21dc2c",
   "metadata": {},
   "outputs": [],
   "source": [
    "##Transformback to original form\n",
    "#train_predict_lstm = scaler.inverse_transform(train_predict_lstm)\n",
    "#test_predict_lstm =scaler.inverse_transform(test_predict_lstm)"
   ]
  },
  {
   "cell_type": "code",
   "execution_count": 37,
   "id": "82ea771e",
   "metadata": {},
   "outputs": [],
   "source": [
    "#math.sqrt(mean_squared_error(y_train,train_predict_lstm))"
   ]
  },
  {
   "cell_type": "code",
   "execution_count": 38,
   "id": "f9b8d258",
   "metadata": {},
   "outputs": [],
   "source": [
    "### Test Data RMSE\n",
    "#math.sqrt(mean_squared_error(ytest,test_predict_lstm))"
   ]
  },
  {
   "cell_type": "code",
   "execution_count": 39,
   "id": "26bbe603",
   "metadata": {},
   "outputs": [],
   "source": [
    "### Plotting \n",
    "# shift train predictions for plotting\n",
    "#look_back=100\n",
    "#trainPredictPlot = np.empty_like(df1)\n",
    "#trainPredictPlot[:, :] = np.nan\n",
    "#trainPredictPlot[look_back:len(train_predict_lstm)+look_back, :] = train_predict_lstm\n",
    "# shift test predictions for plotting\n",
    "#testPredictPlot = np.empty_like(df1)\n",
    "#testPredictPlot[:, :] = np.nan\n",
    "#testPredictPlot[len(train_predict_lstm)+(look_back*2)+1:len(df1)-1, :] = test_predict_lstm\n",
    "# plot baseline and predictions\n",
    "#plt.figure(figsize=(25, 6))\n",
    "#plt.plot(scaler.inverse_transform(df1))\n",
    "#plt.plot(trainPredictPlot)\n",
    "#plt.plot(testPredictPlot)\n",
    "#plt.show()"
   ]
  },
  {
   "cell_type": "code",
   "execution_count": null,
   "id": "cc16020c",
   "metadata": {},
   "outputs": [],
   "source": []
  }
 ],
 "metadata": {
  "kernelspec": {
   "display_name": "Python 3 (ipykernel)",
   "language": "python",
   "name": "python3"
  },
  "language_info": {
   "codemirror_mode": {
    "name": "ipython",
    "version": 3
   },
   "file_extension": ".py",
   "mimetype": "text/x-python",
   "name": "python",
   "nbconvert_exporter": "python",
   "pygments_lexer": "ipython3",
   "version": "3.9.13"
  }
 },
 "nbformat": 4,
 "nbformat_minor": 5
}
